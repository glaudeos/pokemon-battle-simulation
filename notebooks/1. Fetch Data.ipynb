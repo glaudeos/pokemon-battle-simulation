{
 "cells": [
  {
   "cell_type": "markdown",
   "metadata": {},
   "source": [
    "# Fetch Data\n",
    "\n",
    "All data is available through pokeapi.co\n",
    "\n",
    "I use requests to download all of the JSON data for Pokemon Generation 1."
   ]
  },
  {
   "cell_type": "code",
   "execution_count": 1,
   "metadata": {},
   "outputs": [],
   "source": [
    "import requests"
   ]
  },
  {
   "cell_type": "markdown",
   "metadata": {},
   "source": [
    "## Download Generation 1 Data\n",
    "\n",
    "Start by downloading the associated pokemon and abilities for Generation 1."
   ]
  },
  {
   "cell_type": "code",
   "execution_count": 2,
   "metadata": {},
   "outputs": [],
   "source": [
    "headers = {'User-agent': 'Mozilla/5.0'}\n",
    "gen_1_url = 'https://pokeapi.co/api/v2/generation/generation-i/'"
   ]
  },
  {
   "cell_type": "code",
   "execution_count": 4,
   "metadata": {},
   "outputs": [],
   "source": [
    "resp = requests.get(gen_1_url, headers=headers)\n",
    "\n",
    "if resp.status_code == 200 and len(resp.text) > 100:\n",
    "    with open('../data/raw/generation1.json', 'w') as out:\n",
    "        out.write(resp.text)"
   ]
  },
  {
   "cell_type": "code",
   "execution_count": 5,
   "metadata": {},
   "outputs": [],
   "source": [
    "gen_1 = resp.json()"
   ]
  },
  {
   "cell_type": "code",
   "execution_count": 6,
   "metadata": {},
   "outputs": [],
   "source": [
    "def download(fp, url):\n",
    "    resp = requests.get(url, headers=headers)\n",
    "    if resp.status_code == 200 and len(resp.text) > 100:\n",
    "        with open(fp, 'w') as out:\n",
    "            out.write(resp.text)\n",
    "    else:\n",
    "        print('failed to download {}'.format(fp))"
   ]
  },
  {
   "cell_type": "code",
   "execution_count": 11,
   "metadata": {},
   "outputs": [],
   "source": [
    "for move in gen_1['moves']:\n",
    "    out_file = '../data/raw/moves/{}.json'.format(move['name'])\n",
    "    download(out_file, move['url'])"
   ]
  },
  {
   "cell_type": "code",
   "execution_count": 8,
   "metadata": {},
   "outputs": [],
   "source": [
    "# Note that we use a different URL here because the one provided is\n",
    "# \"pokemon-species\" API and does not provide moves.\n",
    "for pokemon in gen_1['pokemon_species']:\n",
    "    out_file = '../data/raw/pokemon/{}.json'.format(pokemon['name'])\n",
    "    url = 'https://pokeapi.co/api/v2/pokemon/{}/'.format(pokemon['name'])\n",
    "    download(out_file, url)"
   ]
  }
 ],
 "metadata": {
  "kernelspec": {
   "display_name": "Python 3",
   "language": "python",
   "name": "python3"
  },
  "language_info": {
   "codemirror_mode": {
    "name": "ipython",
    "version": 3
   },
   "file_extension": ".py",
   "mimetype": "text/x-python",
   "name": "python",
   "nbconvert_exporter": "python",
   "pygments_lexer": "ipython3",
   "version": "3.7.4"
  }
 },
 "nbformat": 4,
 "nbformat_minor": 4
}
