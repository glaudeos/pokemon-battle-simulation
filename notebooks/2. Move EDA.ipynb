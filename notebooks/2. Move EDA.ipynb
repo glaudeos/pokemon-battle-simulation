{
 "cells": [
  {
   "cell_type": "markdown",
   "metadata": {},
   "source": [
    "# Move EDA\n",
    "\n",
    "This notebook is used to identify moves and how they are learned. For our simulation, we only want to include moves that are pokemon specific; not TM or HM based. The data also includes how it is learned in other versions of Pokemon - we only care about the Red and Blue versions."
   ]
  },
  {
   "cell_type": "code",
   "execution_count": 1,
   "metadata": {},
   "outputs": [],
   "source": [
    "from glob import glob\n",
    "import json\n",
    "import pandas as pd"
   ]
  },
  {
   "cell_type": "code",
   "execution_count": 2,
   "metadata": {},
   "outputs": [],
   "source": [
    "def load_json(fp):\n",
    "    data = None\n",
    "    with open(fp) as f:\n",
    "        data = json.load(f)\n",
    "    \n",
    "    return data"
   ]
  },
  {
   "cell_type": "code",
   "execution_count": 3,
   "metadata": {},
   "outputs": [],
   "source": [
    "pokemon = []\n",
    "for fp in glob('../data/raw/pokemon/*.json'):\n",
    "    pokemon.append(load_json(fp))"
   ]
  },
  {
   "cell_type": "code",
   "execution_count": 4,
   "metadata": {},
   "outputs": [],
   "source": [
    "def redblue_moves(pokemon):\n",
    "    moves = []\n",
    "    # find all red/blue moves\n",
    "    for move in pokemon['moves']:\n",
    "        for version_details in move['version_group_details']:\n",
    "            game_version = version_details['version_group']['name']\n",
    "            method = version_details['move_learn_method']['name']\n",
    "            if game_version == 'red-blue' and method == 'level-up':\n",
    "                moves.append({\n",
    "                    'pokemon': pokemon['name'],\n",
    "                    'move_name': move['move']['name'],\n",
    "                    'move_url': move['move']['url']\n",
    "                })\n",
    "    return moves"
   ]
  },
  {
   "cell_type": "code",
   "execution_count": 5,
   "metadata": {},
   "outputs": [],
   "source": [
    "pokemon_moves = []\n",
    "\n",
    "for character in pokemon:\n",
    "    pokemon_moves = pokemon_moves + redblue_moves(character)"
   ]
  },
  {
   "cell_type": "code",
   "execution_count": 6,
   "metadata": {},
   "outputs": [],
   "source": [
    "pokemon_moves_df = pd.DataFrame(pokemon_moves)"
   ]
  },
  {
   "cell_type": "code",
   "execution_count": 7,
   "metadata": {},
   "outputs": [
    {
     "data": {
      "text/html": [
       "<div>\n",
       "<style scoped>\n",
       "    .dataframe tbody tr th:only-of-type {\n",
       "        vertical-align: middle;\n",
       "    }\n",
       "\n",
       "    .dataframe tbody tr th {\n",
       "        vertical-align: top;\n",
       "    }\n",
       "\n",
       "    .dataframe thead th {\n",
       "        text-align: right;\n",
       "    }\n",
       "</style>\n",
       "<table border=\"1\" class=\"dataframe\">\n",
       "  <thead>\n",
       "    <tr style=\"text-align: right;\">\n",
       "      <th></th>\n",
       "      <th>move_name</th>\n",
       "      <th>move_url</th>\n",
       "      <th>pokemon</th>\n",
       "    </tr>\n",
       "  </thead>\n",
       "  <tbody>\n",
       "    <tr>\n",
       "      <th>0</th>\n",
       "      <td>swords-dance</td>\n",
       "      <td>https://pokeapi.co/api/v2/move/14/</td>\n",
       "      <td>farfetchd</td>\n",
       "    </tr>\n",
       "    <tr>\n",
       "      <th>1</th>\n",
       "      <td>sand-attack</td>\n",
       "      <td>https://pokeapi.co/api/v2/move/28/</td>\n",
       "      <td>farfetchd</td>\n",
       "    </tr>\n",
       "    <tr>\n",
       "      <th>2</th>\n",
       "      <td>fury-attack</td>\n",
       "      <td>https://pokeapi.co/api/v2/move/31/</td>\n",
       "      <td>farfetchd</td>\n",
       "    </tr>\n",
       "    <tr>\n",
       "      <th>3</th>\n",
       "      <td>leer</td>\n",
       "      <td>https://pokeapi.co/api/v2/move/43/</td>\n",
       "      <td>farfetchd</td>\n",
       "    </tr>\n",
       "    <tr>\n",
       "      <th>4</th>\n",
       "      <td>peck</td>\n",
       "      <td>https://pokeapi.co/api/v2/move/64/</td>\n",
       "      <td>farfetchd</td>\n",
       "    </tr>\n",
       "    <tr>\n",
       "      <th>5</th>\n",
       "      <td>agility</td>\n",
       "      <td>https://pokeapi.co/api/v2/move/97/</td>\n",
       "      <td>farfetchd</td>\n",
       "    </tr>\n",
       "    <tr>\n",
       "      <th>6</th>\n",
       "      <td>slash</td>\n",
       "      <td>https://pokeapi.co/api/v2/move/163/</td>\n",
       "      <td>farfetchd</td>\n",
       "    </tr>\n",
       "    <tr>\n",
       "      <th>7</th>\n",
       "      <td>stomp</td>\n",
       "      <td>https://pokeapi.co/api/v2/move/23/</td>\n",
       "      <td>rhyhorn</td>\n",
       "    </tr>\n",
       "    <tr>\n",
       "      <th>8</th>\n",
       "      <td>horn-attack</td>\n",
       "      <td>https://pokeapi.co/api/v2/move/30/</td>\n",
       "      <td>rhyhorn</td>\n",
       "    </tr>\n",
       "    <tr>\n",
       "      <th>9</th>\n",
       "      <td>fury-attack</td>\n",
       "      <td>https://pokeapi.co/api/v2/move/31/</td>\n",
       "      <td>rhyhorn</td>\n",
       "    </tr>\n",
       "    <tr>\n",
       "      <th>10</th>\n",
       "      <td>horn-drill</td>\n",
       "      <td>https://pokeapi.co/api/v2/move/32/</td>\n",
       "      <td>rhyhorn</td>\n",
       "    </tr>\n",
       "    <tr>\n",
       "      <th>11</th>\n",
       "      <td>take-down</td>\n",
       "      <td>https://pokeapi.co/api/v2/move/36/</td>\n",
       "      <td>rhyhorn</td>\n",
       "    </tr>\n",
       "    <tr>\n",
       "      <th>12</th>\n",
       "      <td>tail-whip</td>\n",
       "      <td>https://pokeapi.co/api/v2/move/39/</td>\n",
       "      <td>rhyhorn</td>\n",
       "    </tr>\n",
       "    <tr>\n",
       "      <th>13</th>\n",
       "      <td>leer</td>\n",
       "      <td>https://pokeapi.co/api/v2/move/43/</td>\n",
       "      <td>rhyhorn</td>\n",
       "    </tr>\n",
       "    <tr>\n",
       "      <th>14</th>\n",
       "      <td>scratch</td>\n",
       "      <td>https://pokeapi.co/api/v2/move/10/</td>\n",
       "      <td>parasect</td>\n",
       "    </tr>\n",
       "    <tr>\n",
       "      <th>15</th>\n",
       "      <td>growth</td>\n",
       "      <td>https://pokeapi.co/api/v2/move/74/</td>\n",
       "      <td>parasect</td>\n",
       "    </tr>\n",
       "    <tr>\n",
       "      <th>16</th>\n",
       "      <td>stun-spore</td>\n",
       "      <td>https://pokeapi.co/api/v2/move/78/</td>\n",
       "      <td>parasect</td>\n",
       "    </tr>\n",
       "    <tr>\n",
       "      <th>17</th>\n",
       "      <td>stun-spore</td>\n",
       "      <td>https://pokeapi.co/api/v2/move/78/</td>\n",
       "      <td>parasect</td>\n",
       "    </tr>\n",
       "    <tr>\n",
       "      <th>18</th>\n",
       "      <td>leech-life</td>\n",
       "      <td>https://pokeapi.co/api/v2/move/141/</td>\n",
       "      <td>parasect</td>\n",
       "    </tr>\n",
       "    <tr>\n",
       "      <th>19</th>\n",
       "      <td>leech-life</td>\n",
       "      <td>https://pokeapi.co/api/v2/move/141/</td>\n",
       "      <td>parasect</td>\n",
       "    </tr>\n",
       "  </tbody>\n",
       "</table>\n",
       "</div>"
      ],
      "text/plain": [
       "       move_name                             move_url    pokemon\n",
       "0   swords-dance   https://pokeapi.co/api/v2/move/14/  farfetchd\n",
       "1    sand-attack   https://pokeapi.co/api/v2/move/28/  farfetchd\n",
       "2    fury-attack   https://pokeapi.co/api/v2/move/31/  farfetchd\n",
       "3           leer   https://pokeapi.co/api/v2/move/43/  farfetchd\n",
       "4           peck   https://pokeapi.co/api/v2/move/64/  farfetchd\n",
       "5        agility   https://pokeapi.co/api/v2/move/97/  farfetchd\n",
       "6          slash  https://pokeapi.co/api/v2/move/163/  farfetchd\n",
       "7          stomp   https://pokeapi.co/api/v2/move/23/    rhyhorn\n",
       "8    horn-attack   https://pokeapi.co/api/v2/move/30/    rhyhorn\n",
       "9    fury-attack   https://pokeapi.co/api/v2/move/31/    rhyhorn\n",
       "10    horn-drill   https://pokeapi.co/api/v2/move/32/    rhyhorn\n",
       "11     take-down   https://pokeapi.co/api/v2/move/36/    rhyhorn\n",
       "12     tail-whip   https://pokeapi.co/api/v2/move/39/    rhyhorn\n",
       "13          leer   https://pokeapi.co/api/v2/move/43/    rhyhorn\n",
       "14       scratch   https://pokeapi.co/api/v2/move/10/   parasect\n",
       "15        growth   https://pokeapi.co/api/v2/move/74/   parasect\n",
       "16    stun-spore   https://pokeapi.co/api/v2/move/78/   parasect\n",
       "17    stun-spore   https://pokeapi.co/api/v2/move/78/   parasect\n",
       "18    leech-life  https://pokeapi.co/api/v2/move/141/   parasect\n",
       "19    leech-life  https://pokeapi.co/api/v2/move/141/   parasect"
      ]
     },
     "execution_count": 7,
     "metadata": {},
     "output_type": "execute_result"
    }
   ],
   "source": [
    "pokemon_moves_df.head(20)"
   ]
  },
  {
   "cell_type": "markdown",
   "metadata": {},
   "source": [
    "# Merge Move Stats with Pokemon Moves"
   ]
  },
  {
   "cell_type": "code",
   "execution_count": 8,
   "metadata": {},
   "outputs": [],
   "source": [
    "unique_moves = pokemon_moves_df['move_name'].unique()"
   ]
  },
  {
   "cell_type": "code",
   "execution_count": 9,
   "metadata": {},
   "outputs": [],
   "source": [
    "move_details = []\n",
    "\n",
    "for move in unique_moves:\n",
    "    fp = '../data/raw/moves/{}.json'.format(move)\n",
    "    move_details.append(load_json(fp))"
   ]
  },
  {
   "cell_type": "code",
   "execution_count": 10,
   "metadata": {},
   "outputs": [],
   "source": [
    "def get_move_stats(move):\n",
    "    meta = move.get('meta')\n",
    "    \n",
    "    # find effect english\n",
    "    effect = {}\n",
    "    for entry in move['effect_entries']:\n",
    "        if entry['language']['name'] == 'en':\n",
    "            effect = entry\n",
    "    \n",
    "    # find stat change\n",
    "    stat_change = move.get('stat_changes')\n",
    "    if stat_change:\n",
    "        stat_change = stat_change[-1]\n",
    "    else:\n",
    "        stat_change = {'stat': {}}\n",
    "        \n",
    "    \n",
    "    return {\n",
    "        'move_name': move.get('name'),\n",
    "        'move_accuracy': move.get('accuracy'),\n",
    "        'move_crit_rate': meta.get('crit_rate'),\n",
    "        'move_drain': meta.get('drain'),\n",
    "        'move_flinch_chance': meta.get('flinch_chance'),\n",
    "        'move_healing': meta.get('healing'),\n",
    "        'move_max_hits': meta.get('max_hits'),\n",
    "        'move_max_turns': meta.get('max_turns'),\n",
    "        'move_min_hits': meta.get('min_hits'),\n",
    "        'move_min_turns': meta.get('min_turns'),\n",
    "        'move_stat_chance': meta.get('stat_chance'),\n",
    "        'move_power': move.get('power'),\n",
    "        'move_pp': move.get('pp'),\n",
    "        'move_priority': move.get('priority'),\n",
    "        'move_type': move.get('type').get('name'),\n",
    "        'move_effect_chance': move.get('effect_chance'),\n",
    "        'move_effect': effect.get('effect'),\n",
    "        'move_stat_change': stat_change.get('stat').get('name'),\n",
    "        'move_stat_change_amount': stat_change.get('change'),\n",
    "        'move_category': move.get('meta').get('category').get('name'),\n",
    "        'move_target': move.get('target').get('name'),\n",
    "        'move_damage_class': move.get('damage_class').get('name')\n",
    "    }"
   ]
  },
  {
   "cell_type": "code",
   "execution_count": 11,
   "metadata": {},
   "outputs": [],
   "source": [
    "move_stats = []\n",
    "\n",
    "for move in move_details:\n",
    "    move_stats.append(get_move_stats(move))"
   ]
  },
  {
   "cell_type": "code",
   "execution_count": 12,
   "metadata": {},
   "outputs": [],
   "source": [
    "move_stats_df = pd.DataFrame(move_stats)"
   ]
  },
  {
   "cell_type": "code",
   "execution_count": 13,
   "metadata": {},
   "outputs": [
    {
     "data": {
      "text/html": [
       "<div>\n",
       "<style scoped>\n",
       "    .dataframe tbody tr th:only-of-type {\n",
       "        vertical-align: middle;\n",
       "    }\n",
       "\n",
       "    .dataframe tbody tr th {\n",
       "        vertical-align: top;\n",
       "    }\n",
       "\n",
       "    .dataframe thead th {\n",
       "        text-align: right;\n",
       "    }\n",
       "</style>\n",
       "<table border=\"1\" class=\"dataframe\">\n",
       "  <thead>\n",
       "    <tr style=\"text-align: right;\">\n",
       "      <th></th>\n",
       "      <th>move_accuracy</th>\n",
       "      <th>move_category</th>\n",
       "      <th>move_crit_rate</th>\n",
       "      <th>move_damage_class</th>\n",
       "      <th>move_drain</th>\n",
       "      <th>move_effect</th>\n",
       "      <th>move_effect_chance</th>\n",
       "      <th>move_flinch_chance</th>\n",
       "      <th>move_healing</th>\n",
       "      <th>move_max_hits</th>\n",
       "      <th>...</th>\n",
       "      <th>move_min_turns</th>\n",
       "      <th>move_name</th>\n",
       "      <th>move_power</th>\n",
       "      <th>move_pp</th>\n",
       "      <th>move_priority</th>\n",
       "      <th>move_stat_chance</th>\n",
       "      <th>move_stat_change</th>\n",
       "      <th>move_stat_change_amount</th>\n",
       "      <th>move_target</th>\n",
       "      <th>move_type</th>\n",
       "    </tr>\n",
       "  </thead>\n",
       "  <tbody>\n",
       "    <tr>\n",
       "      <th>0</th>\n",
       "      <td>NaN</td>\n",
       "      <td>net-good-stats</td>\n",
       "      <td>0</td>\n",
       "      <td>status</td>\n",
       "      <td>0</td>\n",
       "      <td>Raises the user's Attack by two stages.</td>\n",
       "      <td>NaN</td>\n",
       "      <td>0</td>\n",
       "      <td>0</td>\n",
       "      <td>NaN</td>\n",
       "      <td>...</td>\n",
       "      <td>NaN</td>\n",
       "      <td>swords-dance</td>\n",
       "      <td>NaN</td>\n",
       "      <td>20</td>\n",
       "      <td>0</td>\n",
       "      <td>0</td>\n",
       "      <td>attack</td>\n",
       "      <td>2.0</td>\n",
       "      <td>user</td>\n",
       "      <td>normal</td>\n",
       "    </tr>\n",
       "    <tr>\n",
       "      <th>1</th>\n",
       "      <td>100.0</td>\n",
       "      <td>net-good-stats</td>\n",
       "      <td>0</td>\n",
       "      <td>status</td>\n",
       "      <td>0</td>\n",
       "      <td>Lowers the target's accuracy by one stage.</td>\n",
       "      <td>NaN</td>\n",
       "      <td>0</td>\n",
       "      <td>0</td>\n",
       "      <td>NaN</td>\n",
       "      <td>...</td>\n",
       "      <td>NaN</td>\n",
       "      <td>sand-attack</td>\n",
       "      <td>NaN</td>\n",
       "      <td>15</td>\n",
       "      <td>0</td>\n",
       "      <td>0</td>\n",
       "      <td>accuracy</td>\n",
       "      <td>-1.0</td>\n",
       "      <td>selected-pokemon</td>\n",
       "      <td>ground</td>\n",
       "    </tr>\n",
       "    <tr>\n",
       "      <th>2</th>\n",
       "      <td>85.0</td>\n",
       "      <td>damage</td>\n",
       "      <td>0</td>\n",
       "      <td>physical</td>\n",
       "      <td>0</td>\n",
       "      <td>Inflicts regular damage.  Hits 2–5 times in on...</td>\n",
       "      <td>NaN</td>\n",
       "      <td>0</td>\n",
       "      <td>0</td>\n",
       "      <td>5.0</td>\n",
       "      <td>...</td>\n",
       "      <td>NaN</td>\n",
       "      <td>fury-attack</td>\n",
       "      <td>15.0</td>\n",
       "      <td>20</td>\n",
       "      <td>0</td>\n",
       "      <td>0</td>\n",
       "      <td>None</td>\n",
       "      <td>NaN</td>\n",
       "      <td>selected-pokemon</td>\n",
       "      <td>normal</td>\n",
       "    </tr>\n",
       "    <tr>\n",
       "      <th>3</th>\n",
       "      <td>100.0</td>\n",
       "      <td>net-good-stats</td>\n",
       "      <td>0</td>\n",
       "      <td>status</td>\n",
       "      <td>0</td>\n",
       "      <td>Lowers the target's Defense by one stage.</td>\n",
       "      <td>100.0</td>\n",
       "      <td>0</td>\n",
       "      <td>0</td>\n",
       "      <td>NaN</td>\n",
       "      <td>...</td>\n",
       "      <td>NaN</td>\n",
       "      <td>leer</td>\n",
       "      <td>NaN</td>\n",
       "      <td>30</td>\n",
       "      <td>0</td>\n",
       "      <td>100</td>\n",
       "      <td>defense</td>\n",
       "      <td>-1.0</td>\n",
       "      <td>all-opponents</td>\n",
       "      <td>normal</td>\n",
       "    </tr>\n",
       "    <tr>\n",
       "      <th>4</th>\n",
       "      <td>100.0</td>\n",
       "      <td>damage</td>\n",
       "      <td>0</td>\n",
       "      <td>physical</td>\n",
       "      <td>0</td>\n",
       "      <td>Inflicts regular damage.</td>\n",
       "      <td>NaN</td>\n",
       "      <td>0</td>\n",
       "      <td>0</td>\n",
       "      <td>NaN</td>\n",
       "      <td>...</td>\n",
       "      <td>NaN</td>\n",
       "      <td>peck</td>\n",
       "      <td>35.0</td>\n",
       "      <td>35</td>\n",
       "      <td>0</td>\n",
       "      <td>0</td>\n",
       "      <td>None</td>\n",
       "      <td>NaN</td>\n",
       "      <td>selected-pokemon</td>\n",
       "      <td>flying</td>\n",
       "    </tr>\n",
       "  </tbody>\n",
       "</table>\n",
       "<p>5 rows × 22 columns</p>\n",
       "</div>"
      ],
      "text/plain": [
       "   move_accuracy   move_category  move_crit_rate move_damage_class  \\\n",
       "0            NaN  net-good-stats               0            status   \n",
       "1          100.0  net-good-stats               0            status   \n",
       "2           85.0          damage               0          physical   \n",
       "3          100.0  net-good-stats               0            status   \n",
       "4          100.0          damage               0          physical   \n",
       "\n",
       "   move_drain                                        move_effect  \\\n",
       "0           0            Raises the user's Attack by two stages.   \n",
       "1           0         Lowers the target's accuracy by one stage.   \n",
       "2           0  Inflicts regular damage.  Hits 2–5 times in on...   \n",
       "3           0          Lowers the target's Defense by one stage.   \n",
       "4           0                           Inflicts regular damage.   \n",
       "\n",
       "   move_effect_chance  move_flinch_chance  move_healing  move_max_hits  ...  \\\n",
       "0                 NaN                   0             0            NaN  ...   \n",
       "1                 NaN                   0             0            NaN  ...   \n",
       "2                 NaN                   0             0            5.0  ...   \n",
       "3               100.0                   0             0            NaN  ...   \n",
       "4                 NaN                   0             0            NaN  ...   \n",
       "\n",
       "   move_min_turns     move_name  move_power move_pp  move_priority  \\\n",
       "0             NaN  swords-dance         NaN      20              0   \n",
       "1             NaN   sand-attack         NaN      15              0   \n",
       "2             NaN   fury-attack        15.0      20              0   \n",
       "3             NaN          leer         NaN      30              0   \n",
       "4             NaN          peck        35.0      35              0   \n",
       "\n",
       "   move_stat_chance  move_stat_change  move_stat_change_amount  \\\n",
       "0                 0            attack                      2.0   \n",
       "1                 0          accuracy                     -1.0   \n",
       "2                 0              None                      NaN   \n",
       "3               100           defense                     -1.0   \n",
       "4                 0              None                      NaN   \n",
       "\n",
       "        move_target  move_type  \n",
       "0              user     normal  \n",
       "1  selected-pokemon     ground  \n",
       "2  selected-pokemon     normal  \n",
       "3     all-opponents     normal  \n",
       "4  selected-pokemon     flying  \n",
       "\n",
       "[5 rows x 22 columns]"
      ]
     },
     "execution_count": 13,
     "metadata": {},
     "output_type": "execute_result"
    }
   ],
   "source": [
    "move_stats_df.head()"
   ]
  },
  {
   "cell_type": "code",
   "execution_count": 14,
   "metadata": {},
   "outputs": [
    {
     "data": {
      "text/plain": [
       "array(['attack', 'accuracy', None, 'defense', 'speed', 'special-attack',\n",
       "       'special-defense', 'evasion'], dtype=object)"
      ]
     },
     "execution_count": 14,
     "metadata": {},
     "output_type": "execute_result"
    }
   ],
   "source": [
    "move_stats_df['move_stat_change'].unique()"
   ]
  },
  {
   "cell_type": "code",
   "execution_count": 15,
   "metadata": {},
   "outputs": [
    {
     "data": {
      "text/plain": [
       "1090"
      ]
     },
     "execution_count": 15,
     "metadata": {},
     "output_type": "execute_result"
    }
   ],
   "source": [
    "len(pokemon_moves_df)"
   ]
  },
  {
   "cell_type": "code",
   "execution_count": 16,
   "metadata": {},
   "outputs": [
    {
     "data": {
      "text/plain": [
       "145"
      ]
     },
     "execution_count": 16,
     "metadata": {},
     "output_type": "execute_result"
    }
   ],
   "source": [
    "len(move_stats_df)"
   ]
  },
  {
   "cell_type": "code",
   "execution_count": 17,
   "metadata": {},
   "outputs": [
    {
     "data": {
      "text/plain": [
       "1090"
      ]
     },
     "execution_count": 17,
     "metadata": {},
     "output_type": "execute_result"
    }
   ],
   "source": [
    "len(pd.merge(pokemon_moves_df, move_stats_df, how='inner', on='move_name'))"
   ]
  },
  {
   "cell_type": "code",
   "execution_count": 18,
   "metadata": {},
   "outputs": [],
   "source": [
    "pokemon_moves_detailed_df = pd.merge(pokemon_moves_df, move_stats_df, how='inner', on='move_name')"
   ]
  },
  {
   "cell_type": "code",
   "execution_count": 19,
   "metadata": {},
   "outputs": [],
   "source": [
    "pokemon_moves_detailed_df.to_csv('../data/processed/pokemon_moves_detailed.csv', index=False)"
   ]
  }
 ],
 "metadata": {
  "kernelspec": {
   "display_name": "Python 3",
   "language": "python",
   "name": "python3"
  },
  "language_info": {
   "codemirror_mode": {
    "name": "ipython",
    "version": 3
   },
   "file_extension": ".py",
   "mimetype": "text/x-python",
   "name": "python",
   "nbconvert_exporter": "python",
   "pygments_lexer": "ipython3",
   "version": "3.7.4"
  }
 },
 "nbformat": 4,
 "nbformat_minor": 4
}
