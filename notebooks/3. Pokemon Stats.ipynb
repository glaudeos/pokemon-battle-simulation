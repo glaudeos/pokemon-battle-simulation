{
 "cells": [
  {
   "cell_type": "markdown",
   "metadata": {},
   "source": [
    "# Pokemon Stats\n",
    "\n",
    "In order to compute damage, we need to grab some pokemon stats. This notebook grabs stats for each Pokemon and puts it in a dataframe for easier usage."
   ]
  },
  {
   "cell_type": "code",
   "execution_count": 1,
   "metadata": {},
   "outputs": [],
   "source": [
    "from glob import glob\n",
    "import pandas as pd\n",
    "import json"
   ]
  },
  {
   "cell_type": "code",
   "execution_count": 2,
   "metadata": {},
   "outputs": [],
   "source": [
    "def load_json(fp):\n",
    "    data = None\n",
    "    with open(fp) as f:\n",
    "        data = json.load(f)\n",
    "    \n",
    "    return data"
   ]
  },
  {
   "cell_type": "code",
   "execution_count": 3,
   "metadata": {},
   "outputs": [],
   "source": [
    "pokemon = []\n",
    "for fp in glob('../data/raw/pokemon/*.json'):\n",
    "    pokemon.append(load_json(fp))"
   ]
  },
  {
   "cell_type": "code",
   "execution_count": 4,
   "metadata": {},
   "outputs": [],
   "source": [
    "pokemon_stats = []\n",
    "\n",
    "for character in pokemon:\n",
    "    stats = character['stats']\n",
    "    pokemon_name = character.get('name')\n",
    "    types = []\n",
    "    \n",
    "    data = {}\n",
    "    for stat in stats:\n",
    "        value = stat.get('base_stat')\n",
    "        name = stat.get('stat').get('name')\n",
    "        data[name] = value\n",
    "    \n",
    "    for ptype in character.get('types'):\n",
    "        types.append(ptype.get('type').get('name').lower())\n",
    "    \n",
    "    data['pokemon'] = pokemon_name\n",
    "    data['types'] = ','.join(types)\n",
    "    pokemon_stats.append(data)"
   ]
  },
  {
   "cell_type": "code",
   "execution_count": 5,
   "metadata": {},
   "outputs": [],
   "source": [
    "stats_df = pd.DataFrame(pokemon_stats)"
   ]
  },
  {
   "cell_type": "code",
   "execution_count": 6,
   "metadata": {},
   "outputs": [
    {
     "data": {
      "text/html": [
       "<div>\n",
       "<style scoped>\n",
       "    .dataframe tbody tr th:only-of-type {\n",
       "        vertical-align: middle;\n",
       "    }\n",
       "\n",
       "    .dataframe tbody tr th {\n",
       "        vertical-align: top;\n",
       "    }\n",
       "\n",
       "    .dataframe thead th {\n",
       "        text-align: right;\n",
       "    }\n",
       "</style>\n",
       "<table border=\"1\" class=\"dataframe\">\n",
       "  <thead>\n",
       "    <tr style=\"text-align: right;\">\n",
       "      <th></th>\n",
       "      <th>attack</th>\n",
       "      <th>defense</th>\n",
       "      <th>hp</th>\n",
       "      <th>pokemon</th>\n",
       "      <th>special-attack</th>\n",
       "      <th>special-defense</th>\n",
       "      <th>speed</th>\n",
       "      <th>types</th>\n",
       "    </tr>\n",
       "  </thead>\n",
       "  <tbody>\n",
       "    <tr>\n",
       "      <th>0</th>\n",
       "      <td>90</td>\n",
       "      <td>55</td>\n",
       "      <td>52</td>\n",
       "      <td>farfetchd</td>\n",
       "      <td>58</td>\n",
       "      <td>62</td>\n",
       "      <td>60</td>\n",
       "      <td>flying,normal</td>\n",
       "    </tr>\n",
       "    <tr>\n",
       "      <th>1</th>\n",
       "      <td>85</td>\n",
       "      <td>95</td>\n",
       "      <td>80</td>\n",
       "      <td>rhyhorn</td>\n",
       "      <td>30</td>\n",
       "      <td>30</td>\n",
       "      <td>25</td>\n",
       "      <td>rock,ground</td>\n",
       "    </tr>\n",
       "    <tr>\n",
       "      <th>2</th>\n",
       "      <td>95</td>\n",
       "      <td>80</td>\n",
       "      <td>60</td>\n",
       "      <td>parasect</td>\n",
       "      <td>60</td>\n",
       "      <td>80</td>\n",
       "      <td>30</td>\n",
       "      <td>grass,bug</td>\n",
       "    </tr>\n",
       "    <tr>\n",
       "      <th>3</th>\n",
       "      <td>55</td>\n",
       "      <td>115</td>\n",
       "      <td>65</td>\n",
       "      <td>tangela</td>\n",
       "      <td>100</td>\n",
       "      <td>40</td>\n",
       "      <td>60</td>\n",
       "      <td>grass</td>\n",
       "    </tr>\n",
       "    <tr>\n",
       "      <th>4</th>\n",
       "      <td>20</td>\n",
       "      <td>15</td>\n",
       "      <td>25</td>\n",
       "      <td>abra</td>\n",
       "      <td>105</td>\n",
       "      <td>55</td>\n",
       "      <td>90</td>\n",
       "      <td>psychic</td>\n",
       "    </tr>\n",
       "  </tbody>\n",
       "</table>\n",
       "</div>"
      ],
      "text/plain": [
       "   attack  defense  hp    pokemon  special-attack  special-defense  speed  \\\n",
       "0      90       55  52  farfetchd              58               62     60   \n",
       "1      85       95  80    rhyhorn              30               30     25   \n",
       "2      95       80  60   parasect              60               80     30   \n",
       "3      55      115  65    tangela             100               40     60   \n",
       "4      20       15  25       abra             105               55     90   \n",
       "\n",
       "           types  \n",
       "0  flying,normal  \n",
       "1    rock,ground  \n",
       "2      grass,bug  \n",
       "3          grass  \n",
       "4        psychic  "
      ]
     },
     "execution_count": 6,
     "metadata": {},
     "output_type": "execute_result"
    }
   ],
   "source": [
    "stats_df.head()"
   ]
  },
  {
   "cell_type": "code",
   "execution_count": 7,
   "metadata": {},
   "outputs": [],
   "source": [
    "stats_df.to_csv('../data/processed/pokemon_stats.csv', index=False)"
   ]
  }
 ],
 "metadata": {
  "kernelspec": {
   "display_name": "Python 3",
   "language": "python",
   "name": "python3"
  },
  "language_info": {
   "codemirror_mode": {
    "name": "ipython",
    "version": 3
   },
   "file_extension": ".py",
   "mimetype": "text/x-python",
   "name": "python",
   "nbconvert_exporter": "python",
   "pygments_lexer": "ipython3",
   "version": "3.7.4"
  }
 },
 "nbformat": 4,
 "nbformat_minor": 4
}
