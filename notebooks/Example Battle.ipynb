{
 "cells": [
  {
   "cell_type": "markdown",
   "metadata": {},
   "source": [
    "# Example Battles\n",
    "\n",
    "This notebook demonstrates battles between Pokemon and shows the verbose output."
   ]
  },
  {
   "cell_type": "code",
   "execution_count": 1,
   "metadata": {},
   "outputs": [],
   "source": [
    "import sys\n",
    "\n",
    "sys.path.append('../src/')"
   ]
  },
  {
   "cell_type": "code",
   "execution_count": 2,
   "metadata": {},
   "outputs": [],
   "source": [
    "import simulate\n",
    "from simulate import Pokemon, battle\n",
    "simulate.VERBOSE = True"
   ]
  },
  {
   "cell_type": "markdown",
   "metadata": {},
   "source": [
    "## Pikachu VS Gastly"
   ]
  },
  {
   "cell_type": "code",
   "execution_count": 3,
   "metadata": {},
   "outputs": [
    {
     "name": "stdout",
     "output_type": "stream",
     "text": [
      "gastly damaged pikachu with night-shade for 2.0 hp\n",
      "gastly pp for night-shade is 14/15\n",
      "pikachu hp is 33.0/35\n",
      "pikachu damaged gastly with thunder-shock for 10.0 hp\n",
      "pikachu pp for thunder-shock is 29/30\n",
      "gastly hp is 20.0/30\n",
      "gastly damaged pikachu with dream-eater for 22.0 hp\n",
      "gastly pp for dream-eater is 14/15\n",
      "pikachu hp is 11.0/35\n",
      "pikachu damaged gastly with thunder-shock for 11.0 hp\n",
      "pikachu pp for thunder-shock is 28/30\n",
      "gastly hp is 9.0/30\n",
      "gastly damaged pikachu with lick for 6.0 hp\n",
      "gastly pp for lick is 29/30\n",
      "pikachu hp is 5.0/35\n",
      "pikachu damaged gastly with thunder-shock for 10.0 hp\n",
      "pikachu pp for thunder-shock is 27/30\n",
      "gastly hp is -1.0/30\n"
     ]
    },
    {
     "data": {
      "text/plain": [
       "{'pokemon': 'pikachu',\n",
       " 'pokemonb': 'gastly',\n",
       " 'moves': 6,\n",
       " 'winner': 'pikachu',\n",
       " 'first_attack': 'gastly'}"
      ]
     },
     "execution_count": 3,
     "metadata": {},
     "output_type": "execute_result"
    }
   ],
   "source": [
    "pikachu = Pokemon('pikachu')\n",
    "gastly = Pokemon('gastly')\n",
    "battle(pikachu, gastly)"
   ]
  },
  {
   "cell_type": "markdown",
   "metadata": {},
   "source": [
    "## Machamp VS Snorlax"
   ]
  },
  {
   "cell_type": "code",
   "execution_count": 4,
   "metadata": {},
   "outputs": [
    {
     "name": "stdout",
     "output_type": "stream",
     "text": [
      "machamp damaged snorlax with karate-chop for 59.0 hp\n",
      "machamp pp for karate-chop is 24/25\n",
      "snorlax hp is 101.0/160\n",
      "snorlax damaged machamp with headbutt for 18.0 hp\n",
      "snorlax pp for headbutt is 14/15\n",
      "machamp hp is 72.0/90\n",
      "machamp damaged snorlax with seismic-toss for 10 hp\n",
      "machamp pp for seismic-toss is 19/20\n",
      "snorlax hp is 91.0/160\n",
      "snorlax damaged machamp with headbutt for 17.0 hp\n",
      "snorlax pp for headbutt is 13/15\n",
      "machamp hp is 55.0/90\n",
      "machamp damaged snorlax with karate-chop for 62.0 hp\n",
      "machamp pp for karate-chop is 23/25\n",
      "snorlax hp is 29.0/160\n",
      "snorlax damaged machamp with body-slam for 22.0 hp\n",
      "snorlax pp for body-slam is 14/15\n",
      "machamp hp is 33.0/90\n",
      "machamp damaged snorlax with karate-chop for 41.0 hp\n",
      "machamp pp for karate-chop is 22/25\n",
      "snorlax hp is -12.0/160\n"
     ]
    },
    {
     "data": {
      "text/plain": [
       "{'pokemon': 'machamp',\n",
       " 'pokemonb': 'snorlax',\n",
       " 'moves': 7,\n",
       " 'winner': 'machamp',\n",
       " 'first_attack': 'machamp'}"
      ]
     },
     "execution_count": 4,
     "metadata": {},
     "output_type": "execute_result"
    }
   ],
   "source": [
    "machamp = Pokemon('machamp')\n",
    "snorlax = Pokemon('snorlax')\n",
    "battle(machamp, snorlax)"
   ]
  },
  {
   "cell_type": "markdown",
   "metadata": {},
   "source": [
    "## Magikarp VS Mewtwo"
   ]
  },
  {
   "cell_type": "code",
   "execution_count": 14,
   "metadata": {},
   "outputs": [
    {
     "name": "stdout",
     "output_type": "stream",
     "text": [
      "mewtwo damaged magikarp with psychic for 109.0 hp\n",
      "mewtwo pp for psychic is 9/10\n",
      "magikarp hp is -89.0/20\n"
     ]
    },
    {
     "data": {
      "text/plain": [
       "{'pokemon': 'magikarp',\n",
       " 'pokemonb': 'mewtwo',\n",
       " 'moves': 1,\n",
       " 'winner': 'mewtwo',\n",
       " 'first_attack': 'mewtwo'}"
      ]
     },
     "execution_count": 14,
     "metadata": {},
     "output_type": "execute_result"
    }
   ],
   "source": [
    "magikarp = Pokemon('magikarp')\n",
    "mewtwo = Pokemon('mewtwo')\n",
    "battle(magikarp, mewtwo)"
   ]
  }
 ],
 "metadata": {
  "kernelspec": {
   "display_name": "Python 3",
   "language": "python",
   "name": "python3"
  },
  "language_info": {
   "codemirror_mode": {
    "name": "ipython",
    "version": 3
   },
   "file_extension": ".py",
   "mimetype": "text/x-python",
   "name": "python",
   "nbconvert_exporter": "python",
   "pygments_lexer": "ipython3",
   "version": "3.7.4"
  }
 },
 "nbformat": 4,
 "nbformat_minor": 4
}
